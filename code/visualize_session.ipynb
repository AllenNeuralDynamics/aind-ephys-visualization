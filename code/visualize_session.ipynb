{
 "cells": [
  {
   "cell_type": "code",
   "execution_count": 3,
   "id": "82201f0e",
   "metadata": {},
   "outputs": [],
   "source": [
    "import spikeinterface as si\n",
    "import spikeinterface.preprocessing as spre\n",
    "import spikeinterface.widgets as sw\n",
    "\n",
    "%matplotlib widget"
   ]
  },
  {
   "cell_type": "code",
   "execution_count": 4,
   "id": "752587f2",
   "metadata": {},
   "outputs": [],
   "source": [
    "sw.set_default_plotter_backend(\"ipywidgets\")"
   ]
  },
  {
   "cell_type": "code",
   "execution_count": 5,
   "id": "a09ee9e1",
   "metadata": {},
   "outputs": [],
   "source": [
    "rec = si.read_zarr(\"../data/ecephys_666859_2023-06-15_16-02-43/ecephys_compressed/experiment1_Record Node 104#Neuropix-PXI-100.ProbeA-AP.zarr/\")"
   ]
  },
  {
   "cell_type": "code",
   "execution_count": 10,
   "id": "fe551be1",
   "metadata": {},
   "outputs": [],
   "source": [
    "rec_ps = spre.phase_shift(rec)\n",
    "rec_f = spre.highpass_filter(rec_ps)\n",
    "rec_cmr = spre.common_reference(rec_f)"
   ]
  },
  {
   "cell_type": "code",
   "execution_count": 11,
   "id": "c5bb4ece",
   "metadata": {},
   "outputs": [],
   "source": [
    "rec_dict = dict(raw=rec_ps, filt=rec_f, cmr=rec_cmr)"
   ]
  },
  {
   "cell_type": "code",
   "execution_count": 12,
   "id": "a6b16714",
   "metadata": {},
   "outputs": [
    {
     "data": {
      "application/vnd.jupyter.widget-view+json": {
       "model_id": "603ead946fad46a48d452f110f726d98",
       "version_major": 2,
       "version_minor": 0
      },
      "text/plain": [
       "AppLayout(children=(VBox(children=(FloatSlider(value=10.0, continuous_update=False, description='time:', layou…"
      ]
     },
     "metadata": {},
     "output_type": "display_data"
    },
    {
     "data": {
      "text/plain": [
       "<spikeinterface.widgets.ipywidgets.timeseries.TimeseriesPlotter at 0x7ff2a3b36640>"
      ]
     },
     "execution_count": 12,
     "metadata": {},
     "output_type": "execute_result"
    }
   ],
   "source": [
    "sw.plot_timeseries(rec_dict, time_range=[10, 10.2])"
   ]
  },
  {
   "cell_type": "code",
   "execution_count": null,
   "id": "231e3c63",
   "metadata": {},
   "outputs": [],
   "source": []
  }
 ],
 "metadata": {
  "kernelspec": {
   "display_name": "Python 3 (ipykernel)",
   "language": "python",
   "name": "python3"
  },
  "language_info": {
   "codemirror_mode": {
    "name": "ipython",
    "version": 3
   },
   "file_extension": ".py",
   "mimetype": "text/x-python",
   "name": "python",
   "nbconvert_exporter": "python",
   "pygments_lexer": "ipython3",
   "version": "3.8.5"
  }
 },
 "nbformat": 4,
 "nbformat_minor": 5
}
